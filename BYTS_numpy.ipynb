{
  "nbformat": 4,
  "nbformat_minor": 0,
  "metadata": {
    "colab": {
      "provenance": [],
      "mount_file_id": "1HC8kWLg4kJePb2L3TjAhhR75NWhevILc",
      "authorship_tag": "ABX9TyM6q1Nf1u92iLA//IiPTsAO",
      "include_colab_link": true
    },
    "kernelspec": {
      "name": "python3",
      "display_name": "Python 3"
    },
    "language_info": {
      "name": "python"
    }
  },
  "cells": [
    {
      "cell_type": "markdown",
      "metadata": {
        "id": "view-in-github",
        "colab_type": "text"
      },
      "source": [
        "<a href=\"https://colab.research.google.com/github/srikumar03/Python_numpy_Pandas/blob/main/BYTS_numpy.ipynb\" target=\"_parent\"><img src=\"https://colab.research.google.com/assets/colab-badge.svg\" alt=\"Open In Colab\"/></a>"
      ]
    },
    {
      "cell_type": "code",
      "execution_count": null,
      "metadata": {
        "colab": {
          "base_uri": "https://localhost:8080/"
        },
        "id": "VEGv4uogZtqh",
        "outputId": "0fb9a72d-6661-49df-c81c-291f234c10e4"
      },
      "outputs": [
        {
          "output_type": "stream",
          "name": "stdout",
          "text": [
            "After insertion: [1, 2, 3, 4, 5, 6]\n",
            "After deletion: [1, 2, 3, 5, 6]\n"
          ]
        }
      ],
      "source": [
        "lst = [1, 2, 3, 4, 5]\n",
        "\n",
        "lst.append(6)\n",
        "print(\"After insertion:\", lst)\n",
        "\n",
        "lst.remove(4)\n",
        "print(\"After deletion:\", lst)"
      ]
    },
    {
      "cell_type": "code",
      "source": [
        "tup = (1, 2, 3, 4, 5)\n",
        "nt = tup + (6,)\n",
        "print(\"After insertion:\", nt)\n"
      ],
      "metadata": {
        "colab": {
          "base_uri": "https://localhost:8080/"
        },
        "id": "MisiguKBbZXs",
        "outputId": "04d4b3da-6f4c-4c71-8e75-3a92252ece84"
      },
      "execution_count": null,
      "outputs": [
        {
          "output_type": "stream",
          "name": "stdout",
          "text": [
            "After insertion: (1, 2, 3, 4, 5, 6)\n"
          ]
        }
      ]
    },
    {
      "cell_type": "code",
      "source": [
        "_dict = {'a': 1, 'b': 2, 'c': 3, 'd': 4, 'e': 5}\n",
        "\n",
        "_dict['f'] = 6\n",
        "print(\"After insertion:\", _dict)\n",
        "\n",
        "del _dict['c']\n",
        "print(\"After deletion:\", _dict)"
      ],
      "metadata": {
        "colab": {
          "base_uri": "https://localhost:8080/"
        },
        "id": "lU-dbZ3ybrBz",
        "outputId": "d6505a2d-9ab6-472c-8be8-5dc2c8066167"
      },
      "execution_count": null,
      "outputs": [
        {
          "output_type": "stream",
          "name": "stdout",
          "text": [
            "After insertion: {'a': 1, 'b': 2, 'c': 3, 'd': 4, 'e': 5, 'f': 6}\n",
            "After deletion: {'a': 1, 'b': 2, 'd': 4, 'e': 5, 'f': 6}\n"
          ]
        }
      ]
    },
    {
      "cell_type": "code",
      "source": [
        "import numpy as np\n",
        "a=np.array([[1,2],[3,4]])\n",
        "print(a)\n",
        "print(type(a))\n",
        "a.shape"
      ],
      "metadata": {
        "colab": {
          "base_uri": "https://localhost:8080/"
        },
        "id": "2kikEeUQddrE",
        "outputId": "156770bb-7adc-48ea-bb8f-1dc422615d56"
      },
      "execution_count": null,
      "outputs": [
        {
          "output_type": "stream",
          "name": "stdout",
          "text": [
            "[[1 2]\n",
            " [3 4]]\n",
            "<class 'numpy.ndarray'>\n"
          ]
        },
        {
          "output_type": "execute_result",
          "data": {
            "text/plain": [
              "(2, 2)"
            ]
          },
          "metadata": {},
          "execution_count": 6
        }
      ]
    },
    {
      "cell_type": "code",
      "source": [
        "b=np.arange(5,12)\n",
        "print(b)\n",
        "b=np.arange(5,50,3)\n",
        "print(b)"
      ],
      "metadata": {
        "colab": {
          "base_uri": "https://localhost:8080/"
        },
        "id": "D7wlGM3qh5dD",
        "outputId": "4d3dcadc-fff1-437a-884e-82cc9ddb48ae"
      },
      "execution_count": null,
      "outputs": [
        {
          "output_type": "stream",
          "name": "stdout",
          "text": [
            "[ 5  6  7  8  9 10 11]\n",
            "[ 5  8 11 14 17 20 23 26 29 32 35 38 41 44 47]\n"
          ]
        }
      ]
    },
    {
      "cell_type": "code",
      "source": [
        "print(np.ones((2,5)) ,end=\"\\n\\n****\\n\")\n",
        "print(np.zeros((2,2)) ,end=\"\\n\\n*****\\n\")\n",
        "print(np.zeros((3,2,5)) ,end=\"\\n\\n*****\\n\")"
      ],
      "metadata": {
        "colab": {
          "base_uri": "https://localhost:8080/"
        },
        "id": "6R3SLze4h2yj",
        "outputId": "517e9238-aaba-4a33-f975-7c695d7fcbc8"
      },
      "execution_count": null,
      "outputs": [
        {
          "output_type": "stream",
          "name": "stdout",
          "text": [
            "[[1. 1. 1. 1. 1.]\n",
            " [1. 1. 1. 1. 1.]]\n",
            "\n",
            "****\n",
            "[[0. 0.]\n",
            " [0. 0.]]\n",
            "\n",
            "*****\n",
            "[[[0. 0. 0. 0. 0.]\n",
            "  [0. 0. 0. 0. 0.]]\n",
            "\n",
            " [[0. 0. 0. 0. 0.]\n",
            "  [0. 0. 0. 0. 0.]]\n",
            "\n",
            " [[0. 0. 0. 0. 0.]\n",
            "  [0. 0. 0. 0. 0.]]]\n",
            "\n",
            "*****\n"
          ]
        }
      ]
    },
    {
      "cell_type": "code",
      "source": [
        "print(np.eye(3,3) ,end=\"\\n\\n*****\\n\")"
      ],
      "metadata": {
        "colab": {
          "base_uri": "https://localhost:8080/"
        },
        "id": "pP7UO662h0u0",
        "outputId": "d5bc55fb-7498-40f7-fb68-f7567cef7a63"
      },
      "execution_count": null,
      "outputs": [
        {
          "output_type": "stream",
          "name": "stdout",
          "text": [
            "[[1. 0. 0.]\n",
            " [0. 1. 0.]\n",
            " [0. 0. 1.]]\n",
            "\n",
            "*****\n"
          ]
        }
      ]
    },
    {
      "cell_type": "code",
      "source": [
        "\n",
        "print(np.linspace(2,20) ,end=\"\\n\\n*****\\n\")\n",
        "print(np.linspace(0,1) ,end=\"\\n\\n*****\\n\")"
      ],
      "metadata": {
        "colab": {
          "base_uri": "https://localhost:8080/"
        },
        "id": "W-pqSbAKhw8B",
        "outputId": "500bd07f-3801-4bda-8681-025ebc4757a7"
      },
      "execution_count": null,
      "outputs": [
        {
          "output_type": "stream",
          "name": "stdout",
          "text": [
            "[ 2.          2.36734694  2.73469388  3.10204082  3.46938776  3.83673469\n",
            "  4.20408163  4.57142857  4.93877551  5.30612245  5.67346939  6.04081633\n",
            "  6.40816327  6.7755102   7.14285714  7.51020408  7.87755102  8.24489796\n",
            "  8.6122449   8.97959184  9.34693878  9.71428571 10.08163265 10.44897959\n",
            " 10.81632653 11.18367347 11.55102041 11.91836735 12.28571429 12.65306122\n",
            " 13.02040816 13.3877551  13.75510204 14.12244898 14.48979592 14.85714286\n",
            " 15.2244898  15.59183673 15.95918367 16.32653061 16.69387755 17.06122449\n",
            " 17.42857143 17.79591837 18.16326531 18.53061224 18.89795918 19.26530612\n",
            " 19.63265306 20.        ]\n",
            "\n",
            "*****\n",
            "[0.         0.02040816 0.04081633 0.06122449 0.08163265 0.10204082\n",
            " 0.12244898 0.14285714 0.16326531 0.18367347 0.20408163 0.2244898\n",
            " 0.24489796 0.26530612 0.28571429 0.30612245 0.32653061 0.34693878\n",
            " 0.36734694 0.3877551  0.40816327 0.42857143 0.44897959 0.46938776\n",
            " 0.48979592 0.51020408 0.53061224 0.55102041 0.57142857 0.59183673\n",
            " 0.6122449  0.63265306 0.65306122 0.67346939 0.69387755 0.71428571\n",
            " 0.73469388 0.75510204 0.7755102  0.79591837 0.81632653 0.83673469\n",
            " 0.85714286 0.87755102 0.89795918 0.91836735 0.93877551 0.95918367\n",
            " 0.97959184 1.        ]\n",
            "\n",
            "*****\n"
          ]
        }
      ]
    },
    {
      "cell_type": "code",
      "source": [
        "b=np.array([[1,2,3],[4,5,6],[7,8,9]])\n",
        "print(b,end=\"\\n------------\\n\\n\")\n",
        "\n",
        "print(b[0:3:2],end=\"\\n------------\\n\\n\")\n",
        "\n",
        "print(b[0:3,1])\n",
        "print(b[:,2])\n",
        "print(b[0:2,1:2],end=\"\\n------------\\n\\n\")\n"
      ],
      "metadata": {
        "colab": {
          "base_uri": "https://localhost:8080/"
        },
        "id": "rafCngyviG7z",
        "outputId": "a45d1a25-4f3f-43bf-defb-f9274f2a56a7"
      },
      "execution_count": null,
      "outputs": [
        {
          "output_type": "stream",
          "name": "stdout",
          "text": [
            "[[1 2 3]\n",
            " [4 5 6]\n",
            " [7 8 9]]\n",
            "------------\n",
            "\n",
            "[[1 2 3]\n",
            " [7 8 9]]\n",
            "------------\n",
            "\n",
            "[2 5 8]\n",
            "[3 6 9]\n",
            "[[2]\n",
            " [5]]\n",
            "------------\n",
            "\n"
          ]
        }
      ]
    },
    {
      "cell_type": "code",
      "source": [
        "b=np.array([1,2,3,4,5,6])\n",
        "np.argmax(b)#index"
      ],
      "metadata": {
        "colab": {
          "base_uri": "https://localhost:8080/"
        },
        "id": "dIoNFfvK8Nea",
        "outputId": "aa6e83b3-3bd0-4893-af06-79d1274e03d8"
      },
      "execution_count": null,
      "outputs": [
        {
          "output_type": "execute_result",
          "data": {
            "text/plain": [
              "5"
            ]
          },
          "metadata": {},
          "execution_count": 21
        }
      ]
    },
    {
      "cell_type": "code",
      "source": [],
      "metadata": {
        "id": "7Hxmbuz_FEgl"
      },
      "execution_count": null,
      "outputs": []
    }
  ]
}